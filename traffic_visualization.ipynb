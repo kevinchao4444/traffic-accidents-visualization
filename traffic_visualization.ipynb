{
 "cells": [
  {
   "cell_type": "markdown",
   "metadata": {},
   "source": [
    "# US Traffic Accidents Visualization\n",
    "\n",
    "Interactive D3.js visualization showing US traffic accident data by state with detailed road feature breakdowns.\n",
    "\n",
    "## Instructions\n",
    "1. Place your CSV file in the `archive/` folder\n",
    "2. Run all cells in this notebook\n",
    "3. The visualization will appear at the bottom"
   ]
  },
  {
   "cell_type": "code",
   "execution_count": 1,
   "metadata": {},
   "outputs": [],
   "source": [
    "import pandas as pd\n",
    "import numpy as np\n",
    "import os\n",
    "import glob\n",
    "import json\n",
    "from IPython.display import HTML, display"
   ]
  },
  {
   "cell_type": "markdown",
   "metadata": {},
   "source": [
    "## Data Processing"
   ]
  },
  {
   "cell_type": "code",
   "execution_count": 2,
   "metadata": {},
   "outputs": [
    {
     "name": "stdout",
     "output_type": "stream",
     "text": [
      "Loading traffic data from: archive\\US_Accidents_March23.csv\n",
      "Original data shape: (7728394, 46)\n",
      "\n",
      "All column names:\n",
      "['ID', 'Source', 'Severity', 'Start_Time', 'End_Time', 'Start_Lat', 'Start_Lng', 'End_Lat', 'End_Lng', 'Distance(mi)', 'Description', 'Street', 'City', 'County', 'State', 'Zipcode', 'Country', 'Timezone', 'Airport_Code', 'Weather_Timestamp', 'Temperature(F)', 'Wind_Chill(F)', 'Humidity(%)', 'Pressure(in)', 'Visibility(mi)', 'Wind_Direction', 'Wind_Speed(mph)', 'Precipitation(in)', 'Weather_Condition', 'Amenity', 'Bump', 'Crossing', 'Give_Way', 'Junction', 'No_Exit', 'Railway', 'Roundabout', 'Station', 'Stop', 'Traffic_Calming', 'Traffic_Signal', 'Turning_Loop', 'Sunrise_Sunset', 'Civil_Twilight', 'Nautical_Twilight', 'Astronomical_Twilight']\n"
     ]
    }
   ],
   "source": [
    "# Find CSV file in archive folder\n",
    "csv_files = glob.glob('archive/*.csv')\n",
    "if not csv_files:\n",
    "    print(\"Error: No CSV file found in archive/ folder\")\n",
    "    print(\"Please place your CSV file in the archive/ folder\")\n",
    "else:\n",
    "    csv_file = csv_files[0]\n",
    "    print(f\"Loading traffic data from: {csv_file}\")\n",
    "    df = pd.read_csv(csv_file)\n",
    "    \n",
    "    print(f\"Original data shape: {df.shape}\")\n",
    "    print(f\"\\nAll column names:\")\n",
    "    print(df.columns.tolist())"
   ]
  },
  {
   "cell_type": "code",
   "execution_count": 3,
   "metadata": {},
   "outputs": [
    {
     "name": "stdout",
     "output_type": "stream",
     "text": [
      "Available columns: ['Severity', 'State', 'City', 'Start_Time', 'Weather_Condition', 'Civil_Twilight', 'Amenity', 'Bump', 'Crossing', 'Give_Way', 'Junction', 'No_Exit', 'Railway', 'Stop', 'Traffic_Signal']\n",
      "Sample data shape: (50000, 15)\n"
     ]
    }
   ],
   "source": [
    "# Select columns for analysis\n",
    "columns_needed = ['Severity', 'State', 'City', 'Start_Time', 'Weather_Condition', \n",
    "                 'Civil_Twilight', 'Amenity', 'Bump', 'Crossing', 'Give_Way', \n",
    "                 'Junction', 'No_Exit', 'Railway', 'Stop', 'Traffic_Signal']\n",
    "\n",
    "# Check which columns exist\n",
    "available_cols = [col for col in columns_needed if col in df.columns]\n",
    "print(f\"Available columns: {available_cols}\")\n",
    "\n",
    "df_sample = df[available_cols].dropna().sample(n=50000, random_state=42)\n",
    "print(f\"Sample data shape: {df_sample.shape}\")"
   ]
  },
  {
   "cell_type": "code",
   "execution_count": 4,
   "metadata": {},
   "outputs": [
    {
     "name": "stdout",
     "output_type": "stream",
     "text": [
      "State totals created\n",
      "Heatmap data created\n"
     ]
    }
   ],
   "source": [
    "# Process road features data\n",
    "road_features = ['Amenity', 'Bump', 'Crossing', 'Give_Way', 'Junction', 'No_Exit', 'Railway', 'Stop', 'Traffic_Signal']\n",
    "existing_features = [col for col in road_features if col in df_sample.columns]\n",
    "\n",
    "# State population data (2023 estimates in millions)\n",
    "state_populations = {\n",
    "    'CA': 39.0, 'TX': 30.5, 'FL': 22.6, 'NY': 19.3, 'PA': 12.9, 'IL': 12.6, 'OH': 11.8, 'GA': 11.0,\n",
    "    'NC': 10.7, 'MI': 10.0, 'NJ': 9.3, 'VA': 8.7, 'WA': 7.8, 'AZ': 7.4, 'TN': 7.1, 'MA': 7.0,\n",
    "    'IN': 6.8, 'MO': 6.2, 'MD': 6.2, 'WI': 5.9, 'CO': 5.8, 'MN': 5.7, 'SC': 5.3, 'AL': 5.1,\n",
    "    'LA': 4.6, 'KY': 4.5, 'OR': 4.2, 'OK': 4.0, 'CT': 3.6, 'UT': 3.4, 'IA': 3.2, 'NV': 3.2,\n",
    "    'AR': 3.1, 'MS': 2.9, 'KS': 2.9, 'NM': 2.1, 'NE': 2.0, 'ID': 1.9, 'WV': 1.8, 'HI': 1.4,\n",
    "    'NH': 1.4, 'ME': 1.4, 'MT': 1.1, 'RI': 1.1, 'DE': 1.0, 'SD': 0.9, 'ND': 0.8, 'AK': 0.7,\n",
    "    'VT': 0.6, 'WY': 0.6, 'DC': 0.7\n",
    "}\n",
    "\n",
    "# Create state-level data for map with population normalization\n",
    "state_totals = df_sample.groupby('State').size().reset_index(name='total_accidents')\n",
    "state_totals['population'] = state_totals['State'].map(state_populations)\n",
    "state_totals['accidents_per_100k'] = (state_totals['total_accidents'] / state_totals['population']) * 0.1\n",
    "print(\"State totals created with population normalization\")\n",
    "\n",
    "# Create state-level heatmap data\n",
    "state_heatmaps = {}\n",
    "for state in df_sample['State'].unique():\n",
    "    state_data = df_sample[df_sample['State'] == state]\n",
    "    heatmap_data = []\n",
    "    \n",
    "    for twilight in ['Day', 'Night']:\n",
    "        twilight_data = state_data[state_data['Civil_Twilight'] == twilight]\n",
    "        row = {'twilight': twilight}\n",
    "        \n",
    "        for feature in existing_features:\n",
    "            count = len(twilight_data[twilight_data[feature] == True]) if len(twilight_data) > 0 else 0\n",
    "            row[feature] = count\n",
    "        \n",
    "        heatmap_data.append(row)\n",
    "    \n",
    "    state_heatmaps[state] = heatmap_data\n",
    "\n",
    "print(\"Heatmap data created\")"
   ]
  },
  {
   "cell_type": "code",
   "execution_count": 5,
   "metadata": {},
   "outputs": [
    {
     "name": "stdout",
     "output_type": "stream",
     "text": [
      "Data processed successfully!\n",
      "Files created: state_totals.csv, state_heatmaps.json\n",
      "\n",
      "Data overview:\n",
      "Civil Twilight distribution:\n",
      "Civil_Twilight\n",
      "Day      37055\n",
      "Night    12945\n",
      "Name: count, dtype: int64\n",
      "\n",
      "Top 10 states by accidents:\n",
      "   State  total_accidents\n",
      "3     CA            11264\n",
      "8     FL             5767\n",
      "41    TX             3760\n",
      "38    SC             2413\n",
      "32    NY             2306\n",
      "25    NC             2242\n",
      "36    PA             1942\n",
      "43    VA             1932\n",
      "21    MN             1247\n",
      "9     GA             1173\n"
     ]
    }
   ],
   "source": [
    "# Save files for visualization\n",
    "state_totals[['State', 'accidents_per_100k']].rename(columns={'accidents_per_100k': 'total_accidents'}).to_csv('state_totals.csv', index=False)\n",
    "\n",
    "with open('state_heatmaps.json', 'w') as f:\n",
    "    json.dump(state_heatmaps, f)\n",
    "\n",
    "print(\"Data processed successfully!\")\n",
    "print(\"Files created: state_totals.csv, state_heatmaps.json\")\n",
    "\n",
    "# Show basic stats\n",
    "print(\"\\nData overview:\")\n",
    "print(f\"Civil Twilight distribution:\\n{df_sample['Civil_Twilight'].value_counts()}\")\n",
    "print(f\"\\nTop 10 states by total accidents:\\n{state_totals.sort_values('total_accidents', ascending=False)[['State', 'total_accidents']].head(10)}\")\n",
    "print(f\"\\nTop 10 states by accidents per 100k population:\\n{state_totals.sort_values('accidents_per_100k', ascending=False)[['State', 'accidents_per_100k']].head(10)}\")"
   ]
  },
  {
   "cell_type": "markdown",
   "metadata": {},
   "source": [
    "## Visualization Design and Analysis\n",
    "\n",
    "This analysis uses two complementary D3.js visualizations to examine traffic accident patterns across the United States. The first visualization is a choropleth map that displays accident rates per 100,000 population by state using color intensity. This population-normalized approach provides a more accurate comparison between states and helps identify true risk patterns rather than just population effects.\n",
    "\n",
    "The second visualization is a heatmap that examines the relationship between road infrastructure features and time of day. This design reveals how different road elements like traffic signals, crossings, and junctions contribute to accidents during day versus night conditions. Understanding these temporal patterns is crucial for developing targeted safety measures.\n",
    "\n",
    "Based on existing traffic safety research, we expect to observe higher accident concentrations in densely populated states with extensive highway networks. Additionally, the temporal analysis should reveal distinct patterns where traffic signals show peak accident rates during high-volume daytime hours, while crossings and junctions may demonstrate increased risk during nighttime periods due to reduced visibility."
   ]
  },
  {
   "cell_type": "code",
   "execution_count": 6,
   "metadata": {},
   "outputs": [
    {
     "name": "stdout",
     "output_type": "stream",
     "text": [
      "D3.js Visualizations:\n"
     ]
    },
    {
     "data": {
      "text/html": [
       "\n",
       "        <iframe\n",
       "            width=\"100%\"\n",
       "            height=\"1600\"\n",
       "            src=\"http://localhost:8001/static_visualization.html\"\n",
       "            frameborder=\"0\"\n",
       "            allowfullscreen\n",
       "            \n",
       "        ></iframe>\n",
       "        "
      ],
      "text/plain": [
       "<IPython.lib.display.IFrame at 0x1bfafff7380>"
      ]
     },
     "metadata": {},
     "output_type": "display_data"
    }
   ],
   "source": [
    "# Embed D3.js visualizations using IFrame workaround\n",
    "import subprocess\n",
    "import time\n",
    "import threading\n",
    "from IPython.display import IFrame\n",
    "\n",
    "# Start server in background\n",
    "def start_server():\n",
    "    subprocess.Popen(['python', 'generate_static.py'], stdout=subprocess.DEVNULL, stderr=subprocess.DEVNULL)\n",
    "\n",
    "# Start server and wait\n",
    "server_thread = threading.Thread(target=start_server)\n",
    "server_thread.daemon = True\n",
    "server_thread.start()\n",
    "time.sleep(3)\n",
    "\n",
    "# Display visualization in iframe with full height\n",
    "print('D3.js Visualizations:')\n",
    "display(IFrame('http://localhost:8001/static_visualization.html', width='100%', height=1600))"
   ]
  },
  {
   "cell_type": "markdown",
   "metadata": {},
   "source": [
    "## Results and Discussion\n",
    "\n",
    "The geographic distribution reveals clear patterns in accident frequency across states. States with darker coloring on the map correspond to higher accident totals, which correlates strongly with population density and urbanization levels. This relationship suggests that traffic volume and infrastructure complexity are primary drivers of accident frequency.\n",
    "\n",
    "The temporal analysis provides valuable insights into infrastructure-related risk factors. Traffic signals demonstrate elevated accident rates during daytime hours, coinciding with peak traffic volumes during commuting periods. Conversely, crossings and junctions show proportionally higher nighttime accident rates, indicating that reduced visibility and potentially impaired decision-making contribute to increased risk at these locations.\n",
    "\n",
    "These findings have practical implications for transportation safety policy. States with higher accident concentrations could benefit from targeted resource allocation, particularly focusing on infrastructure improvements at high-risk locations. Enhanced lighting systems at crossings and optimized signal timing could address the specific temporal patterns observed in the data.\n",
    "\n",
    "This analysis is based on a 50,000-record sample, which provides a substantial foundation but may not capture all seasonal or regional variations. Future research could expand this framework by incorporating weather conditions, seasonal patterns, and socioeconomic factors to develop more comprehensive risk models for traffic safety planning."
   ]
  }
 ],
 "metadata": {
  "kernelspec": {
   "display_name": "Python 3",
   "language": "python",
   "name": "python3"
  },
  "language_info": {
   "codemirror_mode": {
    "name": "ipython",
    "version": 3
   },
   "file_extension": ".py",
   "mimetype": "text/x-python",
   "name": "python",
   "nbconvert_exporter": "python",
   "pygments_lexer": "ipython3",
   "version": "3.13.2"
  }
 },
 "nbformat": 4,
 "nbformat_minor": 4
}
